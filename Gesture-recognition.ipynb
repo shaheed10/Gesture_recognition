{
 "cells": [
  {
   "cell_type": "code",
   "execution_count": 9,
   "metadata": {},
   "outputs": [],
   "source": [
    "import numpy as np\n",
    "import os\n",
    "from scipy.misc import imread, imresize\n",
    "import datetime\n",
    "import warnings\n",
    "warnings.filterwarnings('ignore')\n",
    "np.random.seed(30)\n",
    "import random as rn\n",
    "rn.seed(30)\n",
    "import tensorflow as tf\n",
    "tf.random.set_seed(30)"
   ]
  },
  {
   "cell_type": "code",
   "execution_count": 10,
   "metadata": {},
   "outputs": [],
   "source": [
    "import matplotlib.pyplot as plt\n",
    "# function to plot the training/validation accuracies/losses.\n",
    "\n",
    "def plot_data(history):\n",
    "    fig, axes = plt.subplots(nrows=1, ncols=2, figsize=(15,4))\n",
    "    axes[0].plot(history.history['loss'])   \n",
    "    axes[0].plot(history.history['val_loss'])\n",
    "    axes[0].legend(['loss','val_loss'])\n",
    "    plt.title('model loss')\n",
    "    plt.ylabel('loss')\n",
    "    plt.xlabel('epoch')\n",
    "    plt.legend(['loss','val_loss'])\n",
    "\n",
    "    axes[1].plot(history.history['categorical_accuracy'])   \n",
    "    axes[1].plot(history.history['val_categorical_accuracy'])\n",
    "    axes[1].legend(['categorical_accuracy','val_categorical_accuracy'])\n",
    "    plt.title('model accuracy')\n",
    "    plt.ylabel('accuracy')\n",
    "    plt.xlabel('epoch')\n",
    "    plt.legend(['categorical_accuracy','val_categorical_accuracy'])"
   ]
  },
  {
   "cell_type": "code",
   "execution_count": null,
   "metadata": {},
   "outputs": [],
   "source": []
  },
  {
   "cell_type": "code",
   "execution_count": 11,
   "metadata": {},
   "outputs": [],
   "source": [
    "train_doc = np.random.permutation(open('Project_data/train.csv').readlines())\n",
    "val_doc = np.random.permutation(open('Project_data/val.csv').readlines())\n",
    "batch_size = 60 #experiment with the batch size"
   ]
  },
  {
   "cell_type": "code",
   "execution_count": 12,
   "metadata": {},
   "outputs": [
    {
     "name": "stdout",
     "output_type": "stream",
     "text": [
      "# training sequences = 663\n",
      "# validation sequences = 100\n",
      "# epochs = 50\n"
     ]
    }
   ],
   "source": [
    "curr_dt_time = datetime.datetime.now()\n",
    "train_path = 'Project_data/train'\n",
    "val_path = 'Project_data/val'\n",
    "num_train_sequences = len(train_doc)\n",
    "print('# training sequences =', num_train_sequences)\n",
    "num_val_sequences = len(val_doc)\n",
    "print('# validation sequences =', num_val_sequences)\n",
    "num_epochs = 50\n",
    "print ('# epochs =', num_epochs)"
   ]
  },
  {
   "cell_type": "code",
   "execution_count": 13,
   "metadata": {},
   "outputs": [],
   "source": [
    "x = 30 # Total images in one sequence\n",
    "y = 120 # height\n",
    "z = 120 # width\n",
    "channel = 3 \n",
    "classes = 5"
   ]
  },
  {
   "cell_type": "code",
   "execution_count": 14,
   "metadata": {},
   "outputs": [],
   "source": [
    "def generator_all(source_path, folder_list, batch_size):\n",
    "    print( 'Source path = ', source_path, '; batch size =', batch_size)\n",
    "    # Taking every 5th image as consecutive images are similar. Making sure last image is always there.\n",
    "    img_idx = [x for x in range(0,x,5)] #create a list of image numbers you want to use for a particular video\n",
    "    img_idx.append(29)\n",
    "    while True:\n",
    "        t = np.random.permutation(folder_list)\n",
    "        num_batches = len(folder_list)//batch_size # calculate the number of batches\n",
    "        num_batches_range = num_batches\n",
    "        if(len(folder_list) < batch_size):\n",
    "            batch_size = len(folder_list)\n",
    "            num_batches_range = 1\n",
    "        for batch in range(num_batches_range): # we iterate over the number of batches\n",
    "            batch_data = np.zeros((batch_size,7,y,z,channel)) # x is the number of images you use for each video, (y,z) is the final size of the input images and 3 is the number of channels RGB\n",
    "            batch_labels = np.zeros((batch_size,classes)) # batch_labels is the one hot representation of the output\n",
    "            for folder in range(batch_size): # iterate over the batch_size\n",
    "                imgs = os.listdir(source_path+'/'+ t[folder + (batch*batch_size)].split(';')[0]) # read all the images in the folder\n",
    "                for idx,item in enumerate(img_idx): #  Iterate iver the frames/images of a folder to read them in\n",
    "                    image = imread(source_path+'/'+ t[folder + (batch*batch_size)].strip().split(';')[0]+'/'+imgs[item]).astype(np.float32)\n",
    "                    \n",
    "                    #crop the images and resize them. Note that the images are of 2 different shape \n",
    "                    #and the conv3D will throw error if the inputs in a batch have different shapes\n",
    "                    \n",
    "                    temp = imresize(image,(y,z))\n",
    "                    # Normalizing by 95 percentile\n",
    "                    temp = (temp - np.percentile(temp,5)) / (np.percentile(image,95) - np.percentile(temp, 5))\n",
    "                    batch_data[folder,idx,:,:,0] = (temp[:,:,0]) #normalise and feed in the image\n",
    "                    batch_data[folder,idx,:,:,1] = (temp[:,:,1]) #normalise and feed in the image\n",
    "                    batch_data[folder,idx,:,:,2] = (temp[:,:,2]) #normalise and feed in the image\n",
    "                    \n",
    "                batch_labels[folder, int(t[folder + (batch*batch_size)].strip().split(';')[2])] = 1\n",
    "                \n",
    "            yield batch_data, batch_labels #you yield the batch_data and the batch_labels, remember what does yield do\n",
    "\n",
    "        \n",
    "        # write the code for the remaining data points which are left after full batches\n",
    "        if ((len(folder_list) != batch_size*num_batches) and (num_batches > 0)):\n",
    "            batch = num_batches\n",
    "            batch_size_new = len(folder_list) - (batch_size*num_batches)\n",
    "            print(\"Batch: \",num_batches+1,\"Index:\", batch_size_new)\n",
    "            batch_data = np.zeros((batch_size_new,7,y,z,channel)) # x is the number of images you use for each video, (y,z) is the final size of the input images and 3 is the number of channels RGB\n",
    "            batch_labels = np.zeros((batch_size_new,classes)) # batch_labels is the one hot representation of the output\n",
    "            for folder in range(batch_size_new): # iterate over the batch_size\n",
    "                imgs = os.listdir(source_path+'/'+ t[folder + (batch*batch_size)].split(';')[0]) # read all the images in the folder\n",
    "                for idx,item in enumerate(img_idx): #  Iterate iver the frames/images of a folder to read them in\n",
    "                    image = imread(source_path+'/'+ t[folder + (batch*batch_size)].strip().split(';')[0]+'/'+imgs[item]).astype(np.float32)\n",
    "                    \n",
    "                    #crop the images and resize them. Note that the images are of 2 different shape \n",
    "                    #and the conv3D will throw error if the inputs in a batch have different shapes\n",
    "                    temp = imresize(image,(y,z))\n",
    "                    # Normalizing by 95 percentile\n",
    "                    temp = (temp - np.percentile(temp,5)) / (np.percentile(image,95) - np.percentile(temp, 5))\n",
    "                    batch_data[folder,idx,:,:,0] = (temp[:,:,0]) #normalise and feed in the image\n",
    "                    batch_data[folder,idx,:,:,1] = (temp[:,:,1]) #normalise and feed in the image\n",
    "                    batch_data[folder,idx,:,:,2] = (temp[:,:,2]) #normalise and feed in the image\n",
    "                   \n",
    "                batch_labels[folder, int(t[folder + (batch*batch_size)].strip().split(';')[2])] = 1\n",
    "            yield batch_data, batch_labels"
   ]
  },
  {
   "cell_type": "code",
   "execution_count": 15,
   "metadata": {},
   "outputs": [],
   "source": [
    "# Taking every 5th image as consecutive images are similar. Making sure last image is always there.\n",
    "images_used = [x for x in range(0,30, 5)] #create a list of image numbers you want to use for a particular video\n",
    "images_used.append(29)\n",
    "images_used = len(images_used)"
   ]
  },
  {
   "cell_type": "markdown",
   "metadata": {},
   "source": [
    "### CNN 2d + GRU + Transfer learning using MobileNet"
   ]
  },
  {
   "cell_type": "code",
   "execution_count": 16,
   "metadata": {},
   "outputs": [
    {
     "name": "stderr",
     "output_type": "stream",
     "text": [
      "WARNING: Logging before flag parsing goes to stderr.\n",
      "W0308 14:19:23.669143 139645275506496 mobilenet.py:216] `input_shape` is undefined or non-square, or `rows` is not in [128, 160, 192, 224]. Weights for input shape (224, 224) will be loaded as the default.\n"
     ]
    }
   ],
   "source": [
    "from keras.applications import MobileNet\n",
    "\n",
    "from keras.models import Sequential, Model\n",
    "from keras.layers import Dense, GRU, Flatten, TimeDistributed, Flatten, BatchNormalization, Activation, Dropout, Input, GlobalAveragePooling2D\n",
    "from keras.layers.convolutional import Conv3D, MaxPooling3D, Conv2D, MaxPooling2D\n",
    "from keras.callbacks import ModelCheckpoint, ReduceLROnPlateau\n",
    "from keras import optimizers\n",
    "import keras\n",
    "\n",
    "base_model = Sequential()\n",
    "base_model.add(TimeDistributed(MobileNet(weights='imagenet',include_top=False), input_shape=(images_used,y,z,channel)))\n",
    "base_model.add(TimeDistributed(GlobalAveragePooling2D()))\n",
    "base_model.add(TimeDistributed(BatchNormalization()))\n",
    "base_model.add(TimeDistributed(Dense(1024,activation='relu')))\n",
    "base_model.add(TimeDistributed(Flatten()))\n",
    "base_model.add(GRU(128))\n",
    "base_model.add(Dropout(0.5))\n",
    "base_model.add(Dense(64, activation='relu'))\n",
    "base_model.add(Dropout(0.5))\n",
    "base_model.add(Dense(5, activation='softmax'))\n",
    "optimiser = optimizers.Adam(lr=0.0002)\n",
    "base_model.compile(optimizer=optimiser, loss='categorical_crossentropy', metrics=['categorical_accuracy'])"
   ]
  },
  {
   "cell_type": "code",
   "execution_count": 17,
   "metadata": {},
   "outputs": [
    {
     "name": "stdout",
     "output_type": "stream",
     "text": [
      "Model: \"sequential\"\n",
      "_________________________________________________________________\n",
      "Layer (type)                 Output Shape              Param #   \n",
      "=================================================================\n",
      "time_distributed (TimeDistri (None, 7, 3, 3, 1024)     3228864   \n",
      "_________________________________________________________________\n",
      "time_distributed_1 (TimeDist (None, 7, 1024)           0         \n",
      "_________________________________________________________________\n",
      "time_distributed_2 (TimeDist (None, 7, 1024)           4096      \n",
      "_________________________________________________________________\n",
      "time_distributed_3 (TimeDist (None, 7, 1024)           1049600   \n",
      "_________________________________________________________________\n",
      "time_distributed_4 (TimeDist (None, 7, 1024)           0         \n",
      "_________________________________________________________________\n",
      "gru (GRU)                    (None, 128)               443136    \n",
      "_________________________________________________________________\n",
      "dropout (Dropout)            (None, 128)               0         \n",
      "_________________________________________________________________\n",
      "dense_1 (Dense)              (None, 64)                8256      \n",
      "_________________________________________________________________\n",
      "dropout_1 (Dropout)          (None, 64)                0         \n",
      "_________________________________________________________________\n",
      "dense_2 (Dense)              (None, 5)                 325       \n",
      "=================================================================\n",
      "Total params: 4,734,277\n",
      "Trainable params: 4,710,341\n",
      "Non-trainable params: 23,936\n",
      "_________________________________________________________________\n"
     ]
    }
   ],
   "source": [
    "base_model.summary()"
   ]
  },
  {
   "cell_type": "code",
   "execution_count": 18,
   "metadata": {},
   "outputs": [],
   "source": [
    "train_generator = generator_all(train_path, train_doc, batch_size)\n",
    "val_generator = generator_all(val_path, val_doc, batch_size)"
   ]
  },
  {
   "cell_type": "code",
   "execution_count": 19,
   "metadata": {},
   "outputs": [],
   "source": [
    "if (num_train_sequences%batch_size) == 0:\n",
    "    steps_per_epoch = int(num_train_sequences/batch_size)\n",
    "else:\n",
    "    steps_per_epoch = (num_train_sequences//batch_size) + 1\n",
    "\n",
    "if (num_val_sequences%batch_size) == 0:\n",
    "    validation_steps = int(num_val_sequences/batch_size)\n",
    "else:\n",
    "    validation_steps = (num_val_sequences//batch_size) + 1"
   ]
  },
  {
   "cell_type": "code",
   "execution_count": 20,
   "metadata": {},
   "outputs": [
    {
     "name": "stderr",
     "output_type": "stream",
     "text": [
      "W0308 14:20:24.407132 139645275506496 callbacks.py:1071] `period` argument is deprecated. Please use `save_freq` to specify the frequency in number of batches seen.\n"
     ]
    }
   ],
   "source": [
    "model_name = 'model_init' + '_' + str(curr_dt_time).replace(' ','').replace(':','_') + '/'\n",
    "    \n",
    "if not os.path.exists(model_name):\n",
    "    os.mkdir(model_name)\n",
    "        \n",
    "filepath = model_name + 'model-{epoch:05d}-{loss:.5f}-{categorical_accuracy:.5f}-{val_loss:.5f}-{val_categorical_accuracy:.5f}.h5'\n",
    "\n",
    "checkpoint = ModelCheckpoint(filepath, monitor='val_loss', verbose=1, save_best_only=True, save_weights_only=False, mode='auto', period=1)\n",
    "\n",
    "LR = ReduceLROnPlateau(monitor='val_loss', factor=0.5, patience=2, cooldown=1, verbose=1)# write the REducelronplateau code here\n",
    "callbacks_list = [LR, checkpoint]"
   ]
  },
  {
   "cell_type": "code",
   "execution_count": 21,
   "metadata": {},
   "outputs": [
    {
     "name": "stderr",
     "output_type": "stream",
     "text": [
      "W0308 14:20:27.307379 139645275506496 deprecation.py:323] From <ipython-input-21-212fdea27980>:3: Model.fit_generator (from tensorflow.python.keras.engine.training) is deprecated and will be removed in a future version.\n",
      "Instructions for updating:\n",
      "Please use Model.fit, which supports generators.\n"
     ]
    },
    {
     "name": "stdout",
     "output_type": "stream",
     "text": [
      "Source path =  Project_data/train ; batch size = 60\n",
      "Epoch 1/30\n",
      "10/12 [========================>.....] - ETA: 3s - loss: 1.8058 - categorical_accuracy: 0.2583Batch:  12 Index: 3\n",
      "12/12 [==============================] - ETA: 0s - loss: 1.7822 - categorical_accuracy: 0.2655Source path =  Project_data/val ; batch size = 60\n",
      "Batch:  2 Index: 40\n",
      "\n",
      "Epoch 00001: val_loss improved from inf to 1.44517, saving model to model_init_2021-03-0814_19_13.819926/model-00001-1.78225-0.26546-1.44517-0.44000.h5\n",
      "12/12 [==============================] - 30s 3s/step - loss: 1.7822 - categorical_accuracy: 0.2655 - val_loss: 1.4452 - val_categorical_accuracy: 0.4400 - lr: 2.0000e-04\n",
      "Epoch 2/30\n",
      "10/12 [========================>.....] - ETA: 4s - loss: 1.2164 - categorical_accuracy: 0.5150Batch:  12 Index: 3\n",
      "12/12 [==============================] - ETA: 0s - loss: 1.2084 - categorical_accuracy: 0.5173Batch:  2 Index: 40\n",
      "Batch:  2 Index: 40\n",
      "\n",
      "Epoch 00002: val_loss improved from 1.44517 to 1.18112, saving model to model_init_2021-03-0814_19_13.819926/model-00002-1.20842-0.51735-1.18112-0.55000.h5\n",
      "12/12 [==============================] - 29s 2s/step - loss: 1.2084 - categorical_accuracy: 0.5173 - val_loss: 1.1811 - val_categorical_accuracy: 0.5500 - lr: 2.0000e-04\n",
      "Epoch 3/30\n",
      "10/12 [========================>.....] - ETA: 3s - loss: 0.9356 - categorical_accuracy: 0.6383Batch:  12 Index: 3\n",
      "12/12 [==============================] - ETA: 0s - loss: 0.9446 - categorical_accuracy: 0.6350Batch:  2 Index: 40\n",
      "\n",
      "Epoch 00003: val_loss improved from 1.18112 to 1.04832, saving model to model_init_2021-03-0814_19_13.819926/model-00003-0.94456-0.63499-1.04832-0.54000.h5\n",
      "12/12 [==============================] - 30s 2s/step - loss: 0.9446 - categorical_accuracy: 0.6350 - val_loss: 1.0483 - val_categorical_accuracy: 0.5400 - lr: 2.0000e-04\n",
      "Epoch 4/30\n",
      "10/12 [========================>.....] - ETA: 4s - loss: 0.7525 - categorical_accuracy: 0.7200Batch:  12 Index: 3\n",
      "12/12 [==============================] - ETA: 0s - loss: 0.7623 - categorical_accuracy: 0.7149Batch:  2 Index: 40\n",
      "Batch:  2 Index: 40\n",
      "\n",
      "Epoch 00004: val_loss improved from 1.04832 to 0.91602, saving model to model_init_2021-03-0814_19_13.819926/model-00004-0.76227-0.71493-0.91602-0.64000.h5\n",
      "12/12 [==============================] - 29s 2s/step - loss: 0.7623 - categorical_accuracy: 0.7149 - val_loss: 0.9160 - val_categorical_accuracy: 0.6400 - lr: 2.0000e-04\n",
      "Epoch 5/30\n",
      "10/12 [========================>.....] - ETA: 4s - loss: 0.5626 - categorical_accuracy: 0.8167Batch:  12 Index: 3\n",
      "12/12 [==============================] - ETA: 0s - loss: 0.5674 - categorical_accuracy: 0.8145Batch:  2 Index: 40\n",
      "\n",
      "Epoch 00005: val_loss improved from 0.91602 to 0.81170, saving model to model_init_2021-03-0814_19_13.819926/model-00005-0.56744-0.81448-0.81170-0.63000.h5\n",
      "12/12 [==============================] - 31s 3s/step - loss: 0.5674 - categorical_accuracy: 0.8145 - val_loss: 0.8117 - val_categorical_accuracy: 0.6300 - lr: 2.0000e-04\n",
      "Epoch 6/30\n",
      "10/12 [========================>.....] - ETA: 4s - loss: 0.4657 - categorical_accuracy: 0.8417Batch:  12 Index: 3\n",
      "12/12 [==============================] - ETA: 0s - loss: 0.4638 - categorical_accuracy: 0.8446Batch:  2 Index: 40\n",
      "Batch:  2 Index: 40\n",
      "\n",
      "Epoch 00006: val_loss improved from 0.81170 to 0.73325, saving model to model_init_2021-03-0814_19_13.819926/model-00006-0.46381-0.84465-0.73325-0.70000.h5\n",
      "12/12 [==============================] - 30s 2s/step - loss: 0.4638 - categorical_accuracy: 0.8446 - val_loss: 0.7332 - val_categorical_accuracy: 0.7000 - lr: 2.0000e-04\n",
      "Epoch 7/30\n",
      "10/12 [========================>.....] - ETA: 4s - loss: 0.3729 - categorical_accuracy: 0.8700Batch:  12 Index: 3\n",
      "12/12 [==============================] - ETA: 0s - loss: 0.3673 - categorical_accuracy: 0.8748Batch:  2 Index: 40\n",
      "\n",
      "Epoch 00007: val_loss improved from 0.73325 to 0.64035, saving model to model_init_2021-03-0814_19_13.819926/model-00007-0.36726-0.87481-0.64035-0.69000.h5\n",
      "12/12 [==============================] - 31s 3s/step - loss: 0.3673 - categorical_accuracy: 0.8748 - val_loss: 0.6404 - val_categorical_accuracy: 0.6900 - lr: 2.0000e-04\n",
      "Epoch 8/30\n",
      "10/12 [========================>.....] - ETA: 4s - loss: 0.3178 - categorical_accuracy: 0.9083Batch:  12 Index: 3\n",
      "12/12 [==============================] - ETA: 0s - loss: 0.3254 - categorical_accuracy: 0.9035Batch:  2 Index: 40\n",
      "Batch:  2 Index: 40\n",
      "\n",
      "Epoch 00008: val_loss improved from 0.64035 to 0.54902, saving model to model_init_2021-03-0814_19_13.819926/model-00008-0.32542-0.90347-0.54902-0.75000.h5\n",
      "12/12 [==============================] - 30s 2s/step - loss: 0.3254 - categorical_accuracy: 0.9035 - val_loss: 0.5490 - val_categorical_accuracy: 0.7500 - lr: 2.0000e-04\n",
      "Epoch 9/30\n",
      "10/12 [========================>.....] - ETA: 4s - loss: 0.2482 - categorical_accuracy: 0.9300Batch:  12 Index: 3\n",
      "12/12 [==============================] - ETA: 0s - loss: 0.2464 - categorical_accuracy: 0.9321Batch:  2 Index: 40\n",
      "\n",
      "Epoch 00009: val_loss improved from 0.54902 to 0.51830, saving model to model_init_2021-03-0814_19_13.819926/model-00009-0.24636-0.93213-0.51830-0.77000.h5\n",
      "12/12 [==============================] - 30s 3s/step - loss: 0.2464 - categorical_accuracy: 0.9321 - val_loss: 0.5183 - val_categorical_accuracy: 0.7700 - lr: 2.0000e-04\n",
      "Epoch 10/30\n",
      "10/12 [========================>.....] - ETA: 4s - loss: 0.2361 - categorical_accuracy: 0.9267Batch:  12 Index: 3\n",
      "12/12 [==============================] - ETA: 0s - loss: 0.2425 - categorical_accuracy: 0.9261Batch:  2 Index: 40\n",
      "Batch:  2 Index: 40\n",
      "\n",
      "Epoch 00010: val_loss did not improve from 0.51830\n",
      "12/12 [==============================] - 29s 2s/step - loss: 0.2425 - categorical_accuracy: 0.9261 - val_loss: 0.5978 - val_categorical_accuracy: 0.7200 - lr: 2.0000e-04\n",
      "Epoch 11/30\n",
      "10/12 [========================>.....] - ETA: 4s - loss: 0.2333 - categorical_accuracy: 0.9367Batch:  12 Index: 3\n",
      "12/12 [==============================] - ETA: 0s - loss: 0.2244 - categorical_accuracy: 0.9382Batch:  2 Index: 40\n",
      "\n",
      "Epoch 00011: ReduceLROnPlateau reducing learning rate to 9.999999747378752e-05.\n",
      "\n",
      "Epoch 00011: val_loss did not improve from 0.51830\n",
      "12/12 [==============================] - 30s 3s/step - loss: 0.2244 - categorical_accuracy: 0.9382 - val_loss: 0.6035 - val_categorical_accuracy: 0.7800 - lr: 2.0000e-04\n",
      "Epoch 12/30\n",
      "10/12 [========================>.....] - ETA: 4s - loss: 0.1862 - categorical_accuracy: 0.9483Batch:  12 Index: 3\n",
      "12/12 [==============================] - ETA: 0s - loss: 0.1990 - categorical_accuracy: 0.9412Batch:  2 Index: 40\n",
      "Batch:  2 Index: 40\n",
      "\n",
      "Epoch 00012: val_loss did not improve from 0.51830\n",
      "12/12 [==============================] - 29s 2s/step - loss: 0.1990 - categorical_accuracy: 0.9412 - val_loss: 0.6358 - val_categorical_accuracy: 0.7400 - lr: 1.0000e-04\n",
      "Epoch 13/30\n",
      "10/12 [========================>.....] - ETA: 4s - loss: 0.1714 - categorical_accuracy: 0.9650Batch:  12 Index: 3\n",
      "12/12 [==============================] - ETA: 0s - loss: 0.1733 - categorical_accuracy: 0.9653Batch:  2 Index: 40\n",
      "\n",
      "Epoch 00013: ReduceLROnPlateau reducing learning rate to 4.999999873689376e-05.\n",
      "\n",
      "Epoch 00013: val_loss did not improve from 0.51830\n",
      "12/12 [==============================] - 30s 3s/step - loss: 0.1733 - categorical_accuracy: 0.9653 - val_loss: 0.5985 - val_categorical_accuracy: 0.7600 - lr: 1.0000e-04\n",
      "Epoch 14/30\n",
      "10/12 [========================>.....] - ETA: 4s - loss: 0.1409 - categorical_accuracy: 0.9783Batch:  12 Index: 3\n",
      "12/12 [==============================] - ETA: 0s - loss: 0.1475 - categorical_accuracy: 0.9759Batch:  2 Index: 40\n",
      "Batch:  2 Index: 40\n",
      "\n",
      "Epoch 00014: val_loss did not improve from 0.51830\n",
      "12/12 [==============================] - 29s 2s/step - loss: 0.1475 - categorical_accuracy: 0.9759 - val_loss: 0.5766 - val_categorical_accuracy: 0.7600 - lr: 5.0000e-05\n",
      "Epoch 15/30\n",
      "10/12 [========================>.....] - ETA: 4s - loss: 0.1357 - categorical_accuracy: 0.9750Batch:  12 Index: 3\n",
      "12/12 [==============================] - ETA: 0s - loss: 0.1357 - categorical_accuracy: 0.9744Batch:  2 Index: 40\n",
      "\n",
      "Epoch 00015: ReduceLROnPlateau reducing learning rate to 2.499999936844688e-05.\n",
      "\n",
      "Epoch 00015: val_loss did not improve from 0.51830\n",
      "12/12 [==============================] - 30s 3s/step - loss: 0.1357 - categorical_accuracy: 0.9744 - val_loss: 0.5526 - val_categorical_accuracy: 0.7900 - lr: 5.0000e-05\n"
     ]
    },
    {
     "name": "stdout",
     "output_type": "stream",
     "text": [
      "Epoch 16/30\n",
      "10/12 [========================>.....] - ETA: 4s - loss: 0.1519 - categorical_accuracy: 0.9583Batch:  12 Index: 3\n",
      "12/12 [==============================] - ETA: 0s - loss: 0.1564 - categorical_accuracy: 0.9563Batch:  2 Index: 40\n",
      "Batch:  2 Index: 40\n",
      "\n",
      "Epoch 00016: val_loss did not improve from 0.51830\n",
      "12/12 [==============================] - 29s 2s/step - loss: 0.1564 - categorical_accuracy: 0.9563 - val_loss: 0.5219 - val_categorical_accuracy: 0.7800 - lr: 2.5000e-05\n",
      "Epoch 17/30\n",
      "10/12 [========================>.....] - ETA: 4s - loss: 0.1513 - categorical_accuracy: 0.9617Batch:  12 Index: 3\n",
      "12/12 [==============================] - ETA: 0s - loss: 0.1526 - categorical_accuracy: 0.9608Batch:  2 Index: 40\n",
      "\n",
      "Epoch 00017: val_loss improved from 0.51830 to 0.47958, saving model to model_init_2021-03-0814_19_13.819926/model-00017-0.15264-0.96078-0.47958-0.82000.h5\n",
      "12/12 [==============================] - 30s 3s/step - loss: 0.1526 - categorical_accuracy: 0.9608 - val_loss: 0.4796 - val_categorical_accuracy: 0.8200 - lr: 2.5000e-05\n",
      "Epoch 18/30\n",
      "10/12 [========================>.....] - ETA: 4s - loss: 0.1514 - categorical_accuracy: 0.9617Batch:  12 Index: 3\n",
      "12/12 [==============================] - ETA: 0s - loss: 0.1490 - categorical_accuracy: 0.9623Batch:  2 Index: 40\n",
      "Batch:  2 Index: 40\n",
      "\n",
      "Epoch 00018: val_loss improved from 0.47958 to 0.43396, saving model to model_init_2021-03-0814_19_13.819926/model-00018-0.14899-0.96229-0.43396-0.82000.h5\n",
      "12/12 [==============================] - 29s 2s/step - loss: 0.1490 - categorical_accuracy: 0.9623 - val_loss: 0.4340 - val_categorical_accuracy: 0.8200 - lr: 2.5000e-05\n",
      "Epoch 19/30\n",
      "10/12 [========================>.....] - ETA: 4s - loss: 0.1251 - categorical_accuracy: 0.9717Batch:  12 Index: 3\n",
      "12/12 [==============================] - ETA: 0s - loss: 0.1391 - categorical_accuracy: 0.9698Batch:  2 Index: 40\n",
      "\n",
      "Epoch 00019: val_loss did not improve from 0.43396\n",
      "12/12 [==============================] - 30s 2s/step - loss: 0.1391 - categorical_accuracy: 0.9698 - val_loss: 0.4346 - val_categorical_accuracy: 0.8200 - lr: 2.5000e-05\n",
      "Epoch 20/30\n",
      "10/12 [========================>.....] - ETA: 4s - loss: 0.1264 - categorical_accuracy: 0.9733Batch:  12 Index: 3\n",
      "12/12 [==============================] - ETA: 0s - loss: 0.1288 - categorical_accuracy: 0.9729Batch:  2 Index: 40\n",
      "Batch:  2 Index: 40\n",
      "\n",
      "Epoch 00020: ReduceLROnPlateau reducing learning rate to 1.249999968422344e-05.\n",
      "\n",
      "Epoch 00020: val_loss did not improve from 0.43396\n",
      "12/12 [==============================] - 29s 2s/step - loss: 0.1288 - categorical_accuracy: 0.9729 - val_loss: 0.4919 - val_categorical_accuracy: 0.8100 - lr: 2.5000e-05\n",
      "Epoch 21/30\n",
      "10/12 [========================>.....] - ETA: 3s - loss: 0.1434 - categorical_accuracy: 0.9650Batch:  12 Index: 3\n",
      "12/12 [==============================] - ETA: 0s - loss: 0.1386 - categorical_accuracy: 0.9683Batch:  2 Index: 40\n",
      "\n",
      "Epoch 00021: val_loss did not improve from 0.43396\n",
      "12/12 [==============================] - 30s 2s/step - loss: 0.1386 - categorical_accuracy: 0.9683 - val_loss: 0.4426 - val_categorical_accuracy: 0.8300 - lr: 1.2500e-05\n",
      "Epoch 22/30\n",
      "10/12 [========================>.....] - ETA: 4s - loss: 0.1194 - categorical_accuracy: 0.9750Batch:  12 Index: 3\n",
      "12/12 [==============================] - ETA: 0s - loss: 0.1185 - categorical_accuracy: 0.9744Batch:  2 Index: 40\n",
      "Batch:  2 Index: 40\n",
      "\n",
      "Epoch 00022: val_loss improved from 0.43396 to 0.35783, saving model to model_init_2021-03-0814_19_13.819926/model-00022-0.11849-0.97436-0.35783-0.84000.h5\n",
      "12/12 [==============================] - 29s 2s/step - loss: 0.1185 - categorical_accuracy: 0.9744 - val_loss: 0.3578 - val_categorical_accuracy: 0.8400 - lr: 1.2500e-05\n",
      "Epoch 23/30\n",
      "10/12 [========================>.....] - ETA: 4s - loss: 0.1082 - categorical_accuracy: 0.9833Batch:  12 Index: 3\n",
      "12/12 [==============================] - ETA: 0s - loss: 0.1082 - categorical_accuracy: 0.9834Batch:  2 Index: 40\n",
      "\n",
      "Epoch 00023: val_loss did not improve from 0.35783\n",
      "12/12 [==============================] - 30s 3s/step - loss: 0.1082 - categorical_accuracy: 0.9834 - val_loss: 0.3956 - val_categorical_accuracy: 0.8400 - lr: 1.2500e-05\n",
      "Epoch 24/30\n",
      "10/12 [========================>.....] - ETA: 3s - loss: 0.1157 - categorical_accuracy: 0.9850Batch:  12 Index: 3\n",
      "12/12 [==============================] - ETA: 0s - loss: 0.1124 - categorical_accuracy: 0.9849Batch:  2 Index: 40\n",
      "Batch:  2 Index: 40\n",
      "\n",
      "Epoch 00024: ReduceLROnPlateau reducing learning rate to 6.24999984211172e-06.\n",
      "\n",
      "Epoch 00024: val_loss did not improve from 0.35783\n",
      "12/12 [==============================] - 28s 2s/step - loss: 0.1124 - categorical_accuracy: 0.9849 - val_loss: 0.3976 - val_categorical_accuracy: 0.8300 - lr: 1.2500e-05\n",
      "Epoch 25/30\n",
      "10/12 [========================>.....] - ETA: 4s - loss: 0.1042 - categorical_accuracy: 0.9867Batch:  12 Index: 3\n",
      "12/12 [==============================] - ETA: 0s - loss: 0.1160 - categorical_accuracy: 0.9834Batch:  2 Index: 40\n",
      "\n",
      "Epoch 00025: val_loss did not improve from 0.35783\n",
      "12/12 [==============================] - 30s 2s/step - loss: 0.1160 - categorical_accuracy: 0.9834 - val_loss: 0.3684 - val_categorical_accuracy: 0.8400 - lr: 6.2500e-06\n",
      "Epoch 26/30\n",
      "10/12 [========================>.....] - ETA: 4s - loss: 0.1241 - categorical_accuracy: 0.9750Batch:  12 Index: 3\n",
      "12/12 [==============================] - ETA: 0s - loss: 0.1215 - categorical_accuracy: 0.9759Batch:  2 Index: 40\n",
      "Batch:  2 Index: 40\n",
      "\n",
      "Epoch 00026: ReduceLROnPlateau reducing learning rate to 3.12499992105586e-06.\n",
      "\n",
      "Epoch 00026: val_loss did not improve from 0.35783\n",
      "12/12 [==============================] - 29s 2s/step - loss: 0.1215 - categorical_accuracy: 0.9759 - val_loss: 0.3944 - val_categorical_accuracy: 0.8100 - lr: 6.2500e-06\n",
      "Epoch 27/30\n",
      "10/12 [========================>.....] - ETA: 4s - loss: 0.1049 - categorical_accuracy: 0.9833Batch:  12 Index: 3\n",
      "12/12 [==============================] - ETA: 0s - loss: 0.1134 - categorical_accuracy: 0.9774Batch:  2 Index: 40\n",
      "\n",
      "Epoch 00027: val_loss improved from 0.35783 to 0.35409, saving model to model_init_2021-03-0814_19_13.819926/model-00027-0.11339-0.97738-0.35409-0.85000.h5\n",
      "12/12 [==============================] - 30s 3s/step - loss: 0.1134 - categorical_accuracy: 0.9774 - val_loss: 0.3541 - val_categorical_accuracy: 0.8500 - lr: 3.1250e-06\n",
      "Epoch 28/30\n",
      "10/12 [========================>.....] - ETA: 3s - loss: 0.1168 - categorical_accuracy: 0.9817Batch:  12 Index: 3\n",
      "12/12 [==============================] - ETA: 0s - loss: 0.1246 - categorical_accuracy: 0.9789Batch:  2 Index: 40\n",
      "Batch:  2 Index: 40\n",
      "\n",
      "Epoch 00028: val_loss improved from 0.35409 to 0.30514, saving model to model_init_2021-03-0814_19_13.819926/model-00028-0.12462-0.97888-0.30514-0.87000.h5\n",
      "12/12 [==============================] - 29s 2s/step - loss: 0.1246 - categorical_accuracy: 0.9789 - val_loss: 0.3051 - val_categorical_accuracy: 0.8700 - lr: 3.1250e-06\n",
      "Epoch 29/30\n",
      "10/12 [========================>.....] - ETA: 3s - loss: 0.1290 - categorical_accuracy: 0.9733Batch:  12 Index: 3\n",
      "12/12 [==============================] - ETA: 0s - loss: 0.1408 - categorical_accuracy: 0.9668Batch:  2 Index: 40\n",
      "\n",
      "Epoch 00029: val_loss did not improve from 0.30514\n",
      "12/12 [==============================] - 29s 2s/step - loss: 0.1408 - categorical_accuracy: 0.9668 - val_loss: 0.3387 - val_categorical_accuracy: 0.8500 - lr: 3.1250e-06\n",
      "Epoch 30/30\n",
      "10/12 [========================>.....] - ETA: 3s - loss: 0.1015 - categorical_accuracy: 0.9867Batch:  12 Index: 3\n",
      "12/12 [==============================] - ETA: 0s - loss: 0.0994 - categorical_accuracy: 0.9879Batch:  2 Index: 40\n",
      "Batch:  2 Index: 40\n",
      "\n",
      "Epoch 00030: val_loss improved from 0.30514 to 0.29875, saving model to model_init_2021-03-0814_19_13.819926/model-00030-0.09937-0.98793-0.29875-0.91000.h5\n",
      "12/12 [==============================] - 29s 2s/step - loss: 0.0994 - categorical_accuracy: 0.9879 - val_loss: 0.2988 - val_categorical_accuracy: 0.9100 - lr: 3.1250e-06\n"
     ]
    },
    {
     "data": {
      "text/plain": [
       "<tensorflow.python.keras.callbacks.History at 0x7f00c0593a90>"
      ]
     },
     "execution_count": 21,
     "metadata": {},
     "output_type": "execute_result"
    }
   ],
   "source": [
    "base_model.fit_generator(train_generator, steps_per_epoch=steps_per_epoch, epochs=30, verbose=1, \n",
    "                    callbacks=callbacks_list, validation_data=val_generator, \n",
    "                    validation_steps=validation_steps, class_weight=None, workers=1, initial_epoch=0)"
   ]
  },
  {
   "cell_type": "code",
   "execution_count": 23,
   "metadata": {},
   "outputs": [
    {
     "data": {
      "image/png": "[encoded data removed]",
      "text/plain": [
       "<Figure size 1080x288 with 2 Axes>"
      ]
     },
     "metadata": {
      "needs_background": "light"
     },
     "output_type": "display_data"
    }
   ],
   "source": [
    "plot_data(base_model.history)"
   ]
  },
  {
   "cell_type": "code",
   "execution_count": null,
   "metadata": {},
   "outputs": [],
   "source": []
  }
 ],
 "metadata": {
  "kernelspec": {
   "display_name": "Python 3",
   "language": "python",
   "name": "python3"
  },
  "language_info": {
   "codemirror_mode": {
    "name": "ipython",
    "version": 3
   },
   "file_extension": ".py",
   "mimetype": "text/x-python",
   "name": "python",
   "nbconvert_exporter": "python",
   "pygments_lexer": "ipython3",
   "version": "3.7.3"
  }
 },
 "nbformat": 4,
 "nbformat_minor": 2
}
